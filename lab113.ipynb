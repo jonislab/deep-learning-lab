{
  "cells": [
    {
      "cell_type": "markdown",
      "metadata": {
        "id": "5RKY-4ulITpA"
      },
      "source": [
        "# Example 1"
      ]
    },
    {
      "cell_type": "code",
      "execution_count": 3,
      "metadata": {
        "id": "Z3Q9V6n0Iiue",
        "colab": {
          "base_uri": "https://localhost:8080/"
        },
        "outputId": "088cfad2-e33a-4843-f2c3-caccefbee4c1"
      },
      "outputs": [
        {
          "output_type": "stream",
          "name": "stdout",
          "text": [
            "17\n"
          ]
        }
      ],
      "source": [
        "# Integer\n",
        "my_integer = 17\n",
        "type(my_integer)\n",
        "print (my_integer)\n"
      ]
    },
    {
      "cell_type": "code",
      "source": [
        "# Float\n",
        "my_float = 3.14\n",
        "type(my_float)\n",
        "print(my_float)"
      ],
      "metadata": {
        "id": "onPMhmFpZmpS",
        "colab": {
          "base_uri": "https://localhost:8080/"
        },
        "outputId": "88df050c-59aa-40ef-b6cb-43887863845f"
      },
      "execution_count": 4,
      "outputs": [
        {
          "output_type": "stream",
          "name": "stdout",
          "text": [
            "3.14\n"
          ]
        }
      ]
    },
    {
      "cell_type": "code",
      "source": [
        "# adding intgeger and float\n",
        "mynew_var=my_integer + my_float\n",
        "print(type(mynew_var))\n",
        "print(mynew_var)"
      ],
      "metadata": {
        "colab": {
          "base_uri": "https://localhost:8080/"
        },
        "id": "PAv9Kto7Zy1Y",
        "outputId": "a1a1b0b2-5b26-4d9a-c1bd-a456aec400b6"
      },
      "execution_count": 5,
      "outputs": [
        {
          "output_type": "stream",
          "name": "stdout",
          "text": [
            "<class 'float'>\n",
            "20.14\n"
          ]
        }
      ]
    },
    {
      "cell_type": "code",
      "source": [
        "# Arithmetic operations\n",
        "result_addition = my_integer + my_float\n",
        "print(f'result_addition={result_addition}')\n",
        "\n",
        "result_subtraction = my_integer - my_float\n",
        "print(f'result_subtraction={result_subtraction}')\n",
        "\n",
        "result_multiplication = my_integer * my_float\n",
        "print(f'result_multiplication={result_multiplication}')\n",
        "\n",
        "result_division = my_integer / my_float\n",
        "print(f'result_division={result_division}')\n",
        "\n"
      ],
      "metadata": {
        "id": "M22Hlpv3aCqz"
      },
      "execution_count": null,
      "outputs": []
    },
    {
      "cell_type": "code",
      "source": [
        "# Convert float to integer\n",
        "print(int(result_multiplication))\n",
        "print(int(result_division))\n"
      ],
      "metadata": {
        "id": "6xfvftJ-d47S"
      },
      "execution_count": null,
      "outputs": []
    },
    {
      "cell_type": "code",
      "source": [
        "#get the integer and fractional part of the floating number\n",
        "# https://docs.python.org/3/library/math.html\n",
        "import math\n",
        "fractional_part, integer_part = math.modf(result_division)\n",
        "\n",
        "print(f\"The fractional part of {result_division} is {fractional_part} and integer part is {integer_part}\")\n"
      ],
      "metadata": {
        "colab": {
          "base_uri": "https://localhost:8080/"
        },
        "id": "1gZZFkrgemFX",
        "outputId": "ffbb6297-f4ad-4f65-b57b-d78f5a6b27a6"
      },
      "execution_count": 7,
      "outputs": [
        {
          "output_type": "stream",
          "name": "stdout",
          "text": [
            "The fractional part of 5.414012738853503 is 0.4140127388535033 and integer part is 5.0\n"
          ]
        }
      ]
    },
    {
      "cell_type": "code",
      "source": [
        "# Floor\n",
        "\n",
        "print(math.floor(result_division))\n",
        "print(math.floor(5.1))\n",
        "print(math.floor(5.5))\n",
        "print(math.floor(5.9))"
      ],
      "metadata": {
        "colab": {
          "base_uri": "https://localhost:8080/"
        },
        "id": "7mtfSrU05GSq",
        "outputId": "e3398efe-080b-4a08-9d7f-171998e44a6a"
      },
      "execution_count": 15,
      "outputs": [
        {
          "output_type": "stream",
          "name": "stdout",
          "text": [
            "5\n",
            "5\n",
            "5\n",
            "5\n"
          ]
        }
      ]
    },
    {
      "cell_type": "code",
      "source": [
        "# Ceiling\n",
        "print(math.ceil(5.7))\n",
        "print(math.ceil(5.1))\n",
        "print(math.ceil(5.5))"
      ],
      "metadata": {
        "colab": {
          "base_uri": "https://localhost:8080/"
        },
        "id": "WfT9lxAx5LUj",
        "outputId": "74f11546-be94-4ed7-93c0-bfa132100bc3"
      },
      "execution_count": 13,
      "outputs": [
        {
          "output_type": "stream",
          "name": "stdout",
          "text": [
            "6\n",
            "6\n",
            "6\n"
          ]
        }
      ]
    },
    {
      "cell_type": "code",
      "source": [
        "# working with ranges\n",
        "num=10\n",
        "a = range(num)\n",
        "print(type(a))\n",
        "print(f'a={a}')\n",
        "print([i for i in range(num)])\n",
        "print(f'sum(a) = {sum(a)}  is also equal to {(num * (num-1))/2}')\n"
      ],
      "metadata": {
        "id": "4Ondxh4mfHn8",
        "colab": {
          "base_uri": "https://localhost:8080/"
        },
        "outputId": "3d2ccb63-6797-4902-fff4-a74eb2f8da50"
      },
      "execution_count": 8,
      "outputs": [
        {
          "output_type": "stream",
          "name": "stdout",
          "text": [
            "<class 'range'>\n",
            "a=range(0, 10)\n",
            "[0, 1, 2, 3, 4, 5, 6, 7, 8, 9]\n",
            "sum(a) = 45  is also equal to 45.0\n"
          ]
        }
      ]
    },
    {
      "cell_type": "code",
      "source": [
        "# Built-in divmod - Take two (non-complex) numbers as arguments and return a pair of numbers consisting of their quotient and remainder when using integer division\n",
        "\n",
        "print(divmod(7,3))\n",
        "print(divmod(10,3))\n",
        "print(divmod(22,4))\n",
        "a=divmod(27,7)\n",
        "print(a)\n",
        "print(type(a))\n",
        "print(f'First tuple is {a[0]}')"
      ],
      "metadata": {
        "colab": {
          "base_uri": "https://localhost:8080/"
        },
        "id": "y5nHRgHT4B_E",
        "outputId": "3ee63b5b-1161-45eb-ded9-f36b2cc63378"
      },
      "execution_count": 25,
      "outputs": [
        {
          "output_type": "stream",
          "name": "stdout",
          "text": [
            "(2, 1)\n",
            "(3, 1)\n",
            "(5, 2)\n",
            "(3, 6)\n",
            "<class 'tuple'>\n",
            "First tuple is 3\n"
          ]
        }
      ]
    }
  ],
  "metadata": {
    "colab": {
      "provenance": []
    },
    "kernelspec": {
      "display_name": "Python 3",
      "name": "python3"
    },
    "language_info": {
      "name": "python"
    }
  },
  "nbformat": 4,
  "nbformat_minor": 0
}