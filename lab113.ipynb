{
  "cells": [
    {
      "cell_type": "markdown",
      "metadata": {
        "id": "5RKY-4ulITpA"
      },
      "source": [
        "# Example 1"
      ]
    },
    {
      "cell_type": "code",
      "execution_count": null,
      "metadata": {
        "id": "Z3Q9V6n0Iiue"
      },
      "outputs": [],
      "source": [
        "# Integer\n",
        "my_integer = 17\n",
        "type(my_integer)\n",
        "print (my_integer)\n"
      ]
    },
    {
      "cell_type": "code",
      "source": [
        "# Float\n",
        "my_float = 3.14\n",
        "type(my_float)\n",
        "print(my_float)"
      ],
      "metadata": {
        "id": "onPMhmFpZmpS"
      },
      "execution_count": null,
      "outputs": []
    },
    {
      "cell_type": "code",
      "source": [
        "# adding intgeger and float\n",
        "mynew_var=my_integer + my_float\n",
        "print(type(mynew_var))\n",
        "print(mynew_var)"
      ],
      "metadata": {
        "colab": {
          "base_uri": "https://localhost:8080/"
        },
        "id": "PAv9Kto7Zy1Y",
        "outputId": "ffac47e0-c243-498f-8ddf-5da3c50ca3d4"
      },
      "execution_count": null,
      "outputs": [
        {
          "output_type": "stream",
          "name": "stdout",
          "text": [
            "<class 'float'>\n",
            "45.14\n"
          ]
        }
      ]
    },
    {
      "cell_type": "code",
      "source": [
        "# Arithmetic operations\n",
        "result_addition = my_integer + my_float\n",
        "print(f'result_addition={result_addition}')\n",
        "\n",
        "result_subtraction = my_integer - my_float\n",
        "print(f'result_subtraction={result_subtraction}')\n",
        "\n",
        "result_multiplication = my_integer * my_float\n",
        "print(f'result_multiplication={result_multiplication}')\n",
        "\n",
        "result_division = my_integer / my_float\n",
        "print(f'result_division={result_division}')\n",
        "\n"
      ],
      "metadata": {
        "colab": {
          "base_uri": "https://localhost:8080/"
        },
        "id": "M22Hlpv3aCqz",
        "outputId": "2f97f74a-9fd5-4169-fbf7-13b520578227"
      },
      "execution_count": null,
      "outputs": [
        {
          "output_type": "stream",
          "name": "stdout",
          "text": [
            "result_addition=45.14\n",
            "result_subtraction=38.86\n",
            "result_multiplication=131.88\n",
            "result_division=13.375796178343949\n"
          ]
        }
      ]
    },
    {
      "cell_type": "code",
      "source": [
        "# Convert float to integer\n",
        "print(int(result_multiplication))\n",
        "print(int(result_division))\n"
      ],
      "metadata": {
        "id": "6xfvftJ-d47S"
      },
      "execution_count": null,
      "outputs": []
    },
    {
      "cell_type": "code",
      "source": [
        "#get the integer and fractional part of the floating number\n",
        "# https://docs.python.org/3/library/math.html\n",
        "import math\n",
        "fractional_part, integer_part = math.modf(result_division)\n",
        "\n",
        "print(f\"The fractional part of {result_division} is {fractional_part} and integer part is {integer_part}\")\n"
      ],
      "metadata": {
        "colab": {
          "base_uri": "https://localhost:8080/"
        },
        "id": "1gZZFkrgemFX",
        "outputId": "d929421b-15dd-4fba-887e-51af994254fa"
      },
      "execution_count": null,
      "outputs": [
        {
          "output_type": "stream",
          "name": "stdout",
          "text": [
            "The fractional part of 13.375796178343949 is 0.37579617834394874 and integer part is 13.0\n"
          ]
        }
      ]
    },
    {
      "cell_type": "code",
      "source": [
        "# working with ranges\n",
        "num=10\n",
        "a = range(num)\n",
        "print(type(a))\n",
        "print(f'a={a}')\n",
        "print([i for i in range(num)])\n",
        "print(f'sum(a) = {sum(a)}  is also equal to {(num * (num-1))/2}')\n"
      ],
      "metadata": {
        "id": "4Ondxh4mfHn8",
        "outputId": "9d559d87-39dd-4dcc-cdc7-f8804a160012",
        "colab": {
          "base_uri": "https://localhost:8080/"
        }
      },
      "execution_count": 1,
      "outputs": [
        {
          "output_type": "stream",
          "name": "stdout",
          "text": [
            "<class 'range'>\n",
            "a=range(0, 10)\n",
            "[0, 1, 2, 3, 4, 5, 6, 7, 8, 9]\n",
            "sum(a) = 45  is also equal to 45.0\n"
          ]
        }
      ]
    },
    {
      "cell_type": "code",
      "source": [
        "#Modulos\n",
        "\n",
        "print((5,2))\n",
        "\n"
      ],
      "metadata": {
        "id": "Osjr35b012o6"
      },
      "execution_count": null,
      "outputs": []
    }
  ],
  "metadata": {
    "colab": {
      "provenance": []
    },
    "kernelspec": {
      "display_name": "Python 3",
      "name": "python3"
    },
    "language_info": {
      "name": "python"
    }
  },
  "nbformat": 4,
  "nbformat_minor": 0
}